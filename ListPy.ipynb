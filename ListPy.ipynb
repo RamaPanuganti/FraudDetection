{
 "cells": [
  {
   "cell_type": "code",
   "execution_count": 1,
   "metadata": {},
   "outputs": [
    {
     "name": "stdout",
     "output_type": "stream",
     "text": [
      "['India', 'USA', 'UK', 'Australia', 'Canada']\n",
      "['India', 'USA', 'UK', 'Australia', 'Canada']\n"
     ]
    }
   ],
   "source": [
    "# lists\n",
    "\n",
    "# without using list keyword []\n",
    "countries1 = [\"India\",\"USA\",\"UK\",\"Australia\",\"Canada\"]\n",
    "print(countries1)\n",
    "\n",
    "# usibg list ((  )) # note double brackets\n",
    "countries = list((\"India\",\"USA\",\"UK\",\"Australia\",\"Canada\"))\n",
    "print(countries)\n",
    "\n",
    "##"
   ]
  },
  {
   "cell_type": "code",
   "execution_count": null,
   "metadata": {},
   "outputs": [],
   "source": []
  }
 ],
 "metadata": {
  "kernelspec": {
   "display_name": "Python 3",
   "language": "python",
   "name": "python3"
  },
  "language_info": {
   "codemirror_mode": {
    "name": "ipython",
    "version": 3
   },
   "file_extension": ".py",
   "mimetype": "text/x-python",
   "name": "python",
   "nbconvert_exporter": "python",
   "pygments_lexer": "ipython3",
   "version": "3.7.0"
  }
 },
 "nbformat": 4,
 "nbformat_minor": 2
}
